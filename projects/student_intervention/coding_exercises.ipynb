{
 "cells": [
  {
   "cell_type": "markdown",
   "metadata": {},
   "source": [
    "# Supervised Learning\n",
    "\n",
    "## Coding A Decision Tree"
   ]
  },
  {
   "cell_type": "code",
   "execution_count": 5,
   "metadata": {
    "collapsed": false
   },
   "outputs": [
    {
     "ename": "ImportError",
     "evalue": "No module named class_vis",
     "output_type": "error",
     "traceback": [
      "\u001b[0;31m---------------------------------------------------------------------------\u001b[0m",
      "\u001b[0;31mImportError\u001b[0m                               Traceback (most recent call last)",
      "\u001b[0;32m<ipython-input-5-7d0ca417c027>\u001b[0m in \u001b[0;36m<module>\u001b[0;34m()\u001b[0m\n\u001b[1;32m      4\u001b[0m \u001b[0;34m\u001b[0m\u001b[0m\n\u001b[1;32m      5\u001b[0m \u001b[0;32mimport\u001b[0m \u001b[0msys\u001b[0m\u001b[0;34m\u001b[0m\u001b[0m\n\u001b[0;32m----> 6\u001b[0;31m \u001b[0;32mfrom\u001b[0m \u001b[0mclass_vis\u001b[0m \u001b[0;32mimport\u001b[0m \u001b[0mprettyPicture\u001b[0m\u001b[0;34m,\u001b[0m \u001b[0moutput_image\u001b[0m\u001b[0;34m\u001b[0m\u001b[0m\n\u001b[0m\u001b[1;32m      7\u001b[0m \u001b[0;32mfrom\u001b[0m \u001b[0mprep_terrain_data\u001b[0m \u001b[0;32mimport\u001b[0m \u001b[0mmakeTerrainData\u001b[0m\u001b[0;34m\u001b[0m\u001b[0m\n\u001b[1;32m      8\u001b[0m \u001b[0;34m\u001b[0m\u001b[0m\n",
      "\u001b[0;31mImportError\u001b[0m: No module named class_vis"
     ]
    }
   ],
   "source": [
    "#!/usr/bin/python\n",
    "\n",
    "\"\"\" lecture and example code for decision tree unit \"\"\"\n",
    "\n",
    "import sys\n",
    "from class_vis import prettyPicture, output_image\n",
    "from prep_terrain_data import makeTerrainData\n",
    "\n",
    "import matplotlib.pyplot as plt\n",
    "import numpy as np\n",
    "import pylab as pl\n",
    "from classifyDT import classify\n",
    "\n",
    "features_train, labels_train, features_test, labels_test = makeTerrainData()\n",
    "\n",
    "\n",
    "\n",
    "### the classify() function in classifyDT is where the magic\n",
    "### happens--fill in this function in the file 'classifyDT.py'!\n",
    "clf = classify(features_train, labels_train)\n",
    "\n",
    "\n",
    "\n",
    "\n",
    "\n",
    "\n",
    "\n",
    "#### grader code, do not modify below this line\n",
    "\n",
    "prettyPicture(clf, features_test, labels_test)\n",
    "output_image(\"test.png\", \"png\", open(\"test.png\", \"rb\").read())"
   ]
  },
  {
   "cell_type": "code",
   "execution_count": 4,
   "metadata": {
    "collapsed": true
   },
   "outputs": [],
   "source": [
    "from sklearn import tree\n",
    "\n",
    "def classify(features_train, labels_train):\n",
    "    \n",
    "    clf = tree.DecisionTreeClassifier()\n",
    "    \n",
    "    clf = clf.fit(features_train, labels_train)\n",
    "    \n",
    "    ### your code goes here--should return a trained decision tree classifer\n",
    "\n",
    "    \n",
    "    \n",
    "    return clf"
   ]
  },
  {
   "cell_type": "markdown",
   "metadata": {},
   "source": [
    "## regression"
   ]
  },
  {
   "cell_type": "code",
   "execution_count": 7,
   "metadata": {
    "collapsed": true
   },
   "outputs": [],
   "source": [
    "import numpy\n",
    "import random\n",
    "\n",
    "def ageNetWorthData():\n",
    "\n",
    "    random.seed(42)\n",
    "    numpy.random.seed(42)\n",
    "\n",
    "    ages = []\n",
    "    for ii in range(100):\n",
    "        ages.append( random.randint(20,65) )\n",
    "    net_worths = [ii * 6.25 + numpy.random.normal(scale=40.) for ii in ages]\n",
    "### need massage list into a 2d numpy array to get it to work in LinearRegression\n",
    "    ages       = numpy.reshape( numpy.array(ages), (len(ages), 1))\n",
    "    net_worths = numpy.reshape( numpy.array(net_worths), (len(net_worths), 1))\n",
    "\n",
    "    from sklearn.cross_validation import train_test_split\n",
    "    ages_train, ages_test, net_worths_train, net_worths_test = train_test_split(ages, net_worths)\n",
    "\n",
    "    return ages_train, ages_test, net_worths_train, net_worths_test"
   ]
  },
  {
   "cell_type": "code",
   "execution_count": 17,
   "metadata": {
    "collapsed": false
   },
   "outputs": [
    {
     "data": {
      "text/plain": [
       "{'intercept': -14.353783307755521,\n",
       " 'networth': 160.43205453082507,\n",
       " 'slope': 6.4735495495770587,\n",
       " 'stats on test': 0.81236572923084704,\n",
       " 'stats on training': 0.87458823582171863}"
      ]
     },
     "execution_count": 17,
     "metadata": {},
     "output_type": "execute_result"
    }
   ],
   "source": [
    "import numpy\n",
    "import matplotlib.pyplot as plt\n",
    "\n",
    "# from ages_net_worths import ageNetWorthData\n",
    "\n",
    "ages_train, ages_test, net_worths_train, net_worths_test = ageNetWorthData()\n",
    "\n",
    "\n",
    "\n",
    "from sklearn.linear_model import LinearRegression\n",
    "\n",
    "reg = LinearRegression()\n",
    "reg.fit(ages_train, net_worths_train)\n",
    "\n",
    "### get Katie's net worth (she's 27)\n",
    "### sklearn predictions are returned in an array, so you'll want to index into\n",
    "### the output to get what you want, e.g. net_worth = predict([[27]])[0][0] (not\n",
    "### exact syntax, the point is the [0] at the end). In addition, make sure the\n",
    "### argument to your prediction function is in the expected format - if you get\n",
    "### a warning about needing a 2d array for your data, a list of lists will be\n",
    "### interpreted by sklearn as such (e.g. [[27]]).\n",
    "km_net_worth = reg.predict([[27]])[0][0] ### fill in the line of code to get the right value\n",
    "\n",
    "### get the slope\n",
    "### again, you'll get a 2-D array, so stick the [0][0] at the end\n",
    "slope = reg.coef_[0][0] ### fill in the line of code to get the right value\n",
    "\n",
    "### get the intercept\n",
    "### here you get a 1-D array, so stick [0] on the end to access\n",
    "### the info we want\n",
    "intercept = reg.intercept_[0] ### fill in the line of code to get the right value\n",
    "### get the score on test data\n",
    "test_score = reg.score(ages_test,net_worths_test) ### fill in the line of code to get the right value\n",
    "### get the score on the training data\n",
    "training_score = reg.score(ages_train,net_worths_train) ### fill in the line of code to get the right value\n",
    "\n",
    "\n",
    "\n",
    "\n",
    "def submitFit():\n",
    "    # all of the values in the returned dictionary are expected to be\n",
    "    # numbers for the purpose of the grader.\n",
    "    return {\"networth\":km_net_worth,\n",
    "            \"slope\":slope,\n",
    "            \"intercept\":intercept,\n",
    "            \"stats on test\":test_score,\n",
    "            \"stats on training\": training_score}\n",
    "\n",
    "submitFit()"
   ]
  },
  {
   "cell_type": "code",
   "execution_count": 18,
   "metadata": {
    "collapsed": false
   },
   "outputs": [
    {
     "name": "stdout",
     "output_type": "stream",
     "text": [
      "Your linear model is y=0.03125*x+70.175\n"
     ]
    }
   ],
   "source": [
    "#\n",
    "#\n",
    "# Regression and Classification programming exercises\n",
    "#\n",
    "#\n",
    "\n",
    "\n",
    "#\n",
    "#\tIn this exercise we will be taking a small data set and computing a linear function\n",
    "#\tthat fits it, by hand.\n",
    "#\t\n",
    "\n",
    "#\tthe data set\n",
    "\n",
    "import numpy as np\n",
    "\n",
    "sleep = [5,6,7,8,10]\n",
    "scores = [65,51,75,75,86]\n",
    "\n",
    "\n",
    "def compute_regression(sleep,scores):\n",
    "\n",
    "    #\tFirst, compute the average amount of each list\n",
    "\n",
    "    avg_sleep = np.mean(sleep)\n",
    "    avg_scores = np.mean(scores)\n",
    "\n",
    "    #\tThen normalize the lists by subtracting the mean value from each entry\n",
    "\n",
    "    normalized_sleep = sleep - avg_sleep\n",
    "    normalized_scores = scores - avg_scores\n",
    "\n",
    "    #\tCompute the slope of the line by taking the sum over each student\n",
    "    #\tof the product of their normalized sleep times their normalized test score.\n",
    "    #\tThen divide this by the sum of squares of the normalized sleep times.\n",
    "\n",
    "    slope = np.sum(normalized_sleep) / np.sum(normalized_scores)\n",
    "\n",
    "    #\tFinally, We have a linear function of the form\n",
    "    #\ty - avg_y = slope * ( x - avg_x )\n",
    "    #\tRewrite this function in the form\n",
    "    #\ty = m * x + b\n",
    "    #\tThen return the values m, b\n",
    "    m = slope\n",
    "    b = avg_scores - slope * avg_sleep\n",
    "\n",
    "    return m,b\n",
    "\n",
    "\n",
    "if __name__==\"__main__\":\n",
    "    m,b = compute_regression(sleep,scores)\n",
    "    print \"Your linear model is y={}*x+{}\".format(m,b)"
   ]
  },
  {
   "cell_type": "code",
   "execution_count": 31,
   "metadata": {
    "collapsed": false
   },
   "outputs": [
    {
     "name": "stdout",
     "output_type": "stream",
     "text": [
      "Your linear model is y=5.51351351351*x+30.7027027027\n"
     ]
    }
   ],
   "source": [
    "#\n",
    "#\n",
    "# Regression and Classification programming exercises\n",
    "#\n",
    "#\n",
    "\n",
    "\n",
    "#\n",
    "#\tIn this exercise we will be taking a small data set and computing a linear function\n",
    "#\tthat fits it, by hand.\n",
    "#\t\n",
    "\n",
    "#\tthe data set\n",
    "\n",
    "import numpy as np\n",
    "\n",
    "sleep = [5,6,7,8,10]\n",
    "scores = [65,51,75,75,86]\n",
    "\n",
    "\n",
    "def compute_regression(sleep,scores):\n",
    "\n",
    "    #\tFirst, compute the average amount of each list\n",
    "\n",
    "    avg_sleep = np.mean(sleep)\n",
    "    avg_scores = np.mean(scores)\n",
    "\n",
    "    #\tThen normalize the lists by subtracting the mean value from each entry\n",
    "\n",
    "    normalized_sleep = sleep - avg_sleep\n",
    "    normalized_scores = scores - avg_scores\n",
    "\n",
    "    #\tCompute the slope of the line by taking the sum over each student\n",
    "    #\tof the product of their normalized sleep times their normalized test score.\n",
    "    #\tThen divide this by the sum of squares of the normalized sleep times.\n",
    "\n",
    "    slope =  np.sum(normalized_sleep * normalized_scores) / np.sum(np.square(normalized_sleep))\n",
    "\n",
    "\n",
    "    #\tFinally, We have a linear function of the form\n",
    "    #\ty - avg_y = slope * ( x - avg_x )\n",
    "    #\tRewrite this function in the form\n",
    "    #\ty = m * x + b\n",
    "    #\tThen return the values m, b\n",
    "    m = slope\n",
    "    b = avg_scores - slope * avg_sleep\n",
    "\n",
    "    return m,b\n",
    "\n",
    "\n",
    "if __name__==\"__main__\":\n",
    "    m,b = compute_regression(sleep,scores)\n",
    "    print \"Your linear model is y={}*x+{}\".format(m,b)"
   ]
  },
  {
   "cell_type": "code",
   "execution_count": 1,
   "metadata": {
    "collapsed": true
   },
   "outputs": [],
   "source": [
    "#!/usr/bin/python\n",
    "import random\n",
    "\n",
    "\n",
    "def makeTerrainData(n_points=1000):\n",
    "###############################################################################\n",
    "### make the toy dataset\n",
    "    random.seed(42)\n",
    "    grade = [random.random() for ii in range(0,n_points)]\n",
    "    bumpy = [random.random() for ii in range(0,n_points)]\n",
    "    error = [random.random() for ii in range(0,n_points)]\n",
    "    y = [round(grade[ii]*bumpy[ii]+0.3+0.1*error[ii]) for ii in range(0,n_points)]\n",
    "    for ii in range(0, len(y)):\n",
    "        if grade[ii]>0.8 or bumpy[ii]>0.8:\n",
    "            y[ii] = 1.0\n",
    "\n",
    "### split into train/test sets\n",
    "    X = [[gg, ss] for gg, ss in zip(grade, bumpy)]\n",
    "    split = int(0.75*n_points)\n",
    "    X_train = X[0:split]\n",
    "    X_test  = X[split:]\n",
    "    y_train = y[0:split]\n",
    "    y_test  = y[split:]\n",
    "\n",
    "    grade_sig = [X_train[ii][0] for ii in range(0, len(X_train)) if y_train[ii]==0]\n",
    "    bumpy_sig = [X_train[ii][1] for ii in range(0, len(X_train)) if y_train[ii]==0]\n",
    "    grade_bkg = [X_train[ii][0] for ii in range(0, len(X_train)) if y_train[ii]==1]\n",
    "    bumpy_bkg = [X_train[ii][1] for ii in range(0, len(X_train)) if y_train[ii]==1]\n",
    "\n",
    "#    training_data = {\"fast\":{\"grade\":grade_sig, \"bumpiness\":bumpy_sig}\n",
    "#            , \"slow\":{\"grade\":grade_bkg, \"bumpiness\":bumpy_bkg}}\n",
    "\n",
    "\n",
    "    grade_sig = [X_test[ii][0] for ii in range(0, len(X_test)) if y_test[ii]==0]\n",
    "    bumpy_sig = [X_test[ii][1] for ii in range(0, len(X_test)) if y_test[ii]==0]\n",
    "    grade_bkg = [X_test[ii][0] for ii in range(0, len(X_test)) if y_test[ii]==1]\n",
    "    bumpy_bkg = [X_test[ii][1] for ii in range(0, len(X_test)) if y_test[ii]==1]\n",
    "\n",
    "    test_data = {\"fast\":{\"grade\":grade_sig, \"bumpiness\":bumpy_sig}\n",
    "            , \"slow\":{\"grade\":grade_bkg, \"bumpiness\":bumpy_bkg}}\n",
    "\n",
    "    return X_train, y_train, X_test, y_test\n",
    "#    return training_data, test_data"
   ]
  },
  {
   "cell_type": "code",
   "execution_count": 2,
   "metadata": {
    "collapsed": true
   },
   "outputs": [],
   "source": [
    "def classify(features_train, labels_train):   \n",
    "    ### import the sklearn module for GaussianNB\n",
    "    ### create classifier\n",
    "    ### fit the classifier on the training features and labels\n",
    "    ### return the fit classifier\n",
    "    \n",
    "    from sklearn.naive_bayes import GaussianNB\n",
    "    \n",
    "    clf = GaussianNB()\n",
    "    clf = clf.fit(features_train, labels_train)\n",
    "    \n",
    "    return clf\n",
    "        \n",
    "    ### your code goes here!\n",
    "    \n"
   ]
  },
  {
   "cell_type": "code",
   "execution_count": 3,
   "metadata": {
    "collapsed": true
   },
   "outputs": [],
   "source": [
    "#!/usr/bin/python\n",
    "\n",
    "#from udacityplots import *\n",
    "import matplotlib \n",
    "matplotlib.use('agg')\n",
    "\n",
    "import matplotlib.pyplot as plt\n",
    "import pylab as pl\n",
    "import numpy as np\n",
    "\n",
    "#import numpy as np\n",
    "#import matplotlib.pyplot as plt\n",
    "#plt.ioff()\n",
    "\n",
    "def prettyPicture(clf, X_test, y_test):\n",
    "    x_min = 0.0; x_max = 1.0\n",
    "    y_min = 0.0; y_max = 1.0\n",
    "\n",
    "    # Plot the decision boundary. For that, we will assign a color to each\n",
    "    # point in the mesh [x_min, m_max]x[y_min, y_max].\n",
    "    h = .01  # step size in the mesh\n",
    "    xx, yy = np.meshgrid(np.arange(x_min, x_max, h), np.arange(y_min, y_max, h))\n",
    "    Z = clf.predict(np.c_[xx.ravel(), yy.ravel()])\n",
    "\n",
    "    # Put the result into a color plot\n",
    "    Z = Z.reshape(xx.shape)\n",
    "    plt.xlim(xx.min(), xx.max())\n",
    "    plt.ylim(yy.min(), yy.max())\n",
    "\n",
    "    plt.pcolormesh(xx, yy, Z, cmap=pl.cm.seismic)\n",
    "\n",
    "    # Plot also the test points\n",
    "    grade_sig = [X_test[ii][0] for ii in range(0, len(X_test)) if y_test[ii]==0]\n",
    "    bumpy_sig = [X_test[ii][1] for ii in range(0, len(X_test)) if y_test[ii]==0]\n",
    "    grade_bkg = [X_test[ii][0] for ii in range(0, len(X_test)) if y_test[ii]==1]\n",
    "    bumpy_bkg = [X_test[ii][1] for ii in range(0, len(X_test)) if y_test[ii]==1]\n",
    "\n",
    "    plt.scatter(grade_sig, bumpy_sig, color = \"b\", label=\"fast\")\n",
    "    plt.scatter(grade_bkg, bumpy_bkg, color = \"r\", label=\"slow\")\n",
    "    plt.legend()\n",
    "    plt.xlabel(\"bumpiness\")\n",
    "    plt.ylabel(\"grade\")\n",
    "\n",
    "    plt.savefig(\"test.png\")\n",
    "    \n",
    "import base64\n",
    "import json\n",
    "import subprocess\n",
    "\n",
    "def output_image(name, format, bytes):\n",
    "    image_start = \"BEGIN_IMAGE_f9825uweof8jw9fj4r8\"\n",
    "    image_end = \"END_IMAGE_0238jfw08fjsiufhw8frs\"\n",
    "    data = {}\n",
    "    data['name'] = name\n",
    "    data['format'] = format\n",
    "    data['bytes'] = base64.encodestring(bytes)\n",
    "    print image_start+json.dumps(data)+image_end"
   ]
  },
  {
   "cell_type": "code",
   "execution_count": 6,
   "metadata": {
    "collapsed": false
   },
   "outputs": [
    {
     "name": "stdout",
     "output_type": "stream",
     "text": [
      "BEGIN_IMAGE_f9825uweof8jw9fj4r8{\"bytes\": \"iVBORw0KGgoAAAANSUhEUgAAAbAAAAEgCAYAAADVKCZpAAAABHNCSVQICAgIfAhkiAAAAAlwSFlz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\\nup0AAAAASUVORK5CYII=\\n\", \"name\": \"test.png\", \"format\": \"png\"}END_IMAGE_0238jfw08fjsiufhw8frs\n"
     ]
    },
    {
     "data": {
      "image/png": "[encoded data removed]",
      "text/plain": [
       "<matplotlib.figure.Figure at 0x10b79f150>"
      ]
     },
     "metadata": {},
     "output_type": "display_data"
    }
   ],
   "source": [
    "#!/usr/bin/python\n",
    "\n",
    "\"\"\" Complete the code in ClassifyNB.py with the sklearn\n",
    "    Naive Bayes classifier to classify the terrain data.\n",
    "    \n",
    "    The objective of this exercise is to recreate the decision \n",
    "    boundary found in the lesson video, and make a plot that\n",
    "    visually shows the decision boundary \"\"\"\n",
    "\n",
    "\n",
    "import numpy as np\n",
    "import pylab as pl\n",
    "\n",
    "%matplotlib inline\n",
    "\n",
    "\n",
    "features_train, labels_train, features_test, labels_test = makeTerrainData()\n",
    "\n",
    "### the training data (features_train, labels_train) have both \"fast\" and \"slow\" points mixed\n",
    "### in together--separate them so we can give them different colors in the scatterplot,\n",
    "### and visually identify them\n",
    "grade_fast = [features_train[ii][0] for ii in range(0, len(features_train)) if labels_train[ii]==0]\n",
    "bumpy_fast = [features_train[ii][1] for ii in range(0, len(features_train)) if labels_train[ii]==0]\n",
    "grade_slow = [features_train[ii][0] for ii in range(0, len(features_train)) if labels_train[ii]==1]\n",
    "bumpy_slow = [features_train[ii][1] for ii in range(0, len(features_train)) if labels_train[ii]==1]\n",
    "\n",
    "\n",
    "# You will need to complete this function imported from the ClassifyNB script.\n",
    "# Be sure to change to that code tab to complete this quiz.\n",
    "clf = classify(features_train, labels_train)\n",
    "\n",
    "\n",
    "\n",
    "### draw the decision boundary with the text points overlaid\n",
    "prettyPicture(clf, features_test, labels_test)\n",
    "output_image(\"test.png\", \"png\", open(\"test.png\", \"rb\").read())\n",
    "\n",
    "\n",
    "\n",
    "\n"
   ]
  },
  {
   "cell_type": "code",
   "execution_count": 10,
   "metadata": {
    "collapsed": false
   },
   "outputs": [
    {
     "data": {
      "text/plain": [
       "0.14285714285714288"
      ]
     },
     "execution_count": 10,
     "metadata": {},
     "output_type": "execute_result"
    }
   ],
   "source": [
    "\n",
    "\n",
    "0.05/0.35"
   ]
  },
  {
   "cell_type": "code",
   "execution_count": null,
   "metadata": {
    "collapsed": true
   },
   "outputs": [],
   "source": []
  }
 ],
 "metadata": {
  "kernelspec": {
   "display_name": "Python 2",
   "language": "python",
   "name": "python2"
  },
  "language_info": {
   "codemirror_mode": {
    "name": "ipython",
    "version": 2
   },
   "file_extension": ".py",
   "mimetype": "text/x-python",
   "name": "python",
   "nbconvert_exporter": "python",
   "pygments_lexer": "ipython2",
   "version": "2.7.11"
  }
 },
 "nbformat": 4,
 "nbformat_minor": 0
}
