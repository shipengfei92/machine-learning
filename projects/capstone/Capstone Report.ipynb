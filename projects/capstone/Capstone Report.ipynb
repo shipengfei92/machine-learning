{
 "cells": [
  {
   "cell_type": "markdown",
   "metadata": {},
   "source": [
    "# Capstone Project\n",
    "## Detect the location of keypoints on face images\n",
    "\n",
    " \n",
    "June 21st, 2016\n"
   ]
  },
  {
   "cell_type": "markdown",
   "metadata": {},
   "source": [
    "## I. Definition"
   ]
  },
  {
   "cell_type": "markdown",
   "metadata": {},
   "source": [
    "This project is an implement of the competition **Ficial Keypoints Detection** on **kaggle**.\n",
    "\n",
    "The competition URL is: https://www.kaggle.com/c/facial-keypoints-detection\n",
    "\n",
    "### Project Overview\n",
    "\n",
    "![pic](front_page.png)\n",
    "\n",
    "The objective of this task is to predict keypoint positions on face images. This can be used as a building block in several applications, such as:\n",
    "\n",
    "- tracking faces in images and video\n",
    "- analysing facial expressions\n",
    "- detecting dysmorphic facial signs for medical diagnosis\n",
    "- biometrics / face recognition\n",
    "\n",
    "Detecing facial keypoints is a very challenging problem.  Facial features vary greatly from one individual to another, and even for a single individual, there is a large amount of variation due to 3D pose, size, position, viewing angle, and illumination conditions. Computer vision research has come a long way in addressing these difficulties, but there remain many opportunities for improvement.\n"
   ]
  },
  {
   "cell_type": "markdown",
   "metadata": {},
   "source": [
    "### Data\n",
    "\n",
    "#### Data Files\n",
    "\n",
    "File Name\t | Available Formats\n",
    "---|---\n",
    "training | .zip (60.10 mb)\n",
    "test | .zip (15.99 mb)\n",
    "SampleSubmission| .csv (201.08 kb)\n",
    "IdLookupTable|.csv (842.51 kb)\n",
    "\n",
    "Each predicted keypoint is specified by an (x,y) real-valued pair in the space of pixel indices. There are 15 keypoints, which represent the following elements of the face:\n",
    "\n",
    "```\n",
    "left_eye_center, right_eye_center, left_eye_inner_corner, left_eye_outer_corner, right_eye_inner_corner, right_eye_outer_corner, left_eyebrow_inner_end, left_eyebrow_outer_end, right_eyebrow_inner_end, right_eyebrow_outer_end, nose_tip, mouth_left_corner, mouth_right_corner, mouth_center_top_lip, mouth_center_bottom_lip\n",
    "```\n",
    "\n",
    "Left and right here refers to the point of view of the subject.\n",
    "\n",
    "In some examples, some of the target keypoint positions are misssing (encoded as missing entries in the csv, i.e., with nothing between two commas).\n",
    "\n",
    "The input image is given in the last field of the data files, and consists of a list of pixels (ordered by row), as integers in (0,255). The images are 96x96 pixels.\n",
    "\n",
    "- **training.csv**: list of training 7049 images. Each row contains the (x,y) coordinates for 15 keypoints, and image data as row-ordered list of pixels.\n",
    "- **test.csv**: list of 1783 test images. Each row contains ImageId and image data as row-ordered list of pixels\n",
    "- **submissionFileFormat.csv**: list of 27124 keypoints to predict. Each row contains a RowId, ImageId, FeatureName, Location. FeatureName are \"left_eye_center_x,\" \"right_eyebrow_outer_end_y,\" etc. Location is what you need to predict. "
   ]
  },
  {
   "cell_type": "markdown",
   "metadata": {},
   "source": [
    "### Metrics\n",
    "\n",
    "#### Root Mean Squared Error (RMSE)\n",
    "\n",
    "Submissions are scored on the root mean squared error. RMSE is very common and is a suitable general-purpose error metric. Compared to the Mean Absolute Error, RMSE punishes large errors:\n",
    "\n",
    "\n",
    "\n",
    "$$ \\textrm{RMSE} = \\sqrt{\\frac{1}{n} \\sum_{i=1}^{n} (y_i - \\hat{y}_i)^2} $$\n",
    "\n",
    "\n",
    "where `y` hat is the predicted value and y is the original value."
   ]
  },
  {
   "cell_type": "markdown",
   "metadata": {},
   "source": [
    "## II. Analysis"
   ]
  },
  {
   "cell_type": "markdown",
   "metadata": {},
   "source": [
    "### Import Necessary Library"
   ]
  },
  {
   "cell_type": "code",
   "execution_count": 1,
   "metadata": {
    "collapsed": true
   },
   "outputs": [],
   "source": [
    "import os\n",
    "import time\n",
    "import zipfile\n",
    "import pandas as pd\n",
    "import numpy as np\n",
    "import tensorflow as tf\n",
    "from sklearn.utils import shuffle\n",
    "from six.moves.urllib.request import urlretrieve\n",
    "import matplotlib.pyplot as plt\n",
    "\n",
    "%matplotlib inline"
   ]
  },
  {
   "cell_type": "markdown",
   "metadata": {},
   "source": [
    "### Define some constants\n",
    "In this session, I will together some constants, which will be used later."
   ]
  },
  {
   "cell_type": "code",
   "execution_count": 39,
   "metadata": {
    "collapsed": true
   },
   "outputs": [],
   "source": [
    "IMAGE_SIZE = 96\n",
    "BATCH_SIZE = 64\n",
    "RANDOM_SEED = 1\n",
    "NUM_LABELS = 30\n",
    "CHANNELS = 1\n",
    "CONV1_DEPTH = 32\n",
    "CONV2_DEPTH = 64\n",
    "NUM_ITER = 10\n",
    "PLOT_NUM = 9"
   ]
  },
  {
   "cell_type": "markdown",
   "metadata": {},
   "source": [
    "### Download Data"
   ]
  },
  {
   "cell_type": "code",
   "execution_count": 3,
   "metadata": {
    "collapsed": false
   },
   "outputs": [
    {
     "name": "stdout",
     "output_type": "stream",
     "text": [
      "The download file training.zip size is 63023793.\n",
      "The download file test.zip size is 16765834.\n"
     ]
    }
   ],
   "source": [
    "# define download functions\n",
    "def download_file(url,filename):\n",
    "    \n",
    "    if not os.path.exists(\"data/\"+filename):\n",
    "        filename, _ = urlretrieve(url, \"data/\"+filename)\n",
    "        \n",
    "    print \"The download file {0} size is {1}.\".format(filename,os.stat(\"data/\"+filename).st_size)\n",
    "\n",
    "training_url = \"https://kaggle2.blob.core.windows.net/competitions-data/kaggle/3486/training.zip?\\\n",
    "sv=2012-02-12&se=2016-07-30T01%3A02%3A04Z&sr=b&sp=r&\\\n",
    "sig=l9fIITpeJzIee2fk7eZ3DU%2F%2Fstf382JnZnsHAEfLT%2BY%3D\"\n",
    "\n",
    "training_filename = \"training.zip\"\n",
    "\n",
    "test_url = \"https://kaggle2.blob.core.windows.net/competitions-data/kaggle/3486/test.zip?\\\n",
    "sv=2012-02-12&se=2016-07-30T01%3A09%3A08Z&sr=b&sp=r&\\\n",
    "sig=81yXfyjPS9uvtXwtqQ5foTQSX%2BfwEwTLY3xkEycDBgI%3D\"\n",
    "\n",
    "test_filename = \"test.zip\"\n",
    "\n",
    "# download training and test zip file\n",
    "download_file(training_url,training_filename)\n",
    "download_file(test_url,test_filename)"
   ]
  },
  {
   "cell_type": "markdown",
   "metadata": {},
   "source": [
    "### Unzip the file"
   ]
  },
  {
   "cell_type": "code",
   "execution_count": 4,
   "metadata": {
    "collapsed": false
   },
   "outputs": [
    {
     "name": "stdout",
     "output_type": "stream",
     "text": [
      "Unzip file training.csv and file size is 238064810\n",
      "Unzip file test.csv and file size is 59822141\n"
     ]
    }
   ],
   "source": [
    "def unzip_file(filename):\n",
    "    zfile = zipfile.ZipFile(\"data/\"+filename)\n",
    "    \n",
    "    for name in zfile.namelist():\n",
    "        \n",
    "        if not os.path.exists(\"data/\"+name):\n",
    "            zfile.extract(name,\"data\")\n",
    "            \n",
    "        print \"Unzip file {0} and file size is {1}\".format(name,os.stat(\"data/\"+name).st_size)\n",
    "        return name\n",
    "\n",
    "\n",
    "training_unzip = unzip_file(training_filename)\n",
    "test_unzip = unzip_file(test_filename)"
   ]
  },
  {
   "cell_type": "markdown",
   "metadata": {},
   "source": [
    "### Load data"
   ]
  },
  {
   "cell_type": "code",
   "execution_count": 5,
   "metadata": {
    "collapsed": false
   },
   "outputs": [],
   "source": [
    "def load_data(filename):\n",
    "    \n",
    "    df = pd.read_csv(\"data/\"+filename)\n",
    "    \n",
    "    return df\n",
    "    \n",
    "\n",
    "train_data = load_data(training_unzip)\n",
    "test_data = load_data(test_unzip)"
   ]
  },
  {
   "cell_type": "markdown",
   "metadata": {},
   "source": [
    "### Data Exploration\n",
    "\n",
    "### Training data"
   ]
  },
  {
   "cell_type": "code",
   "execution_count": 6,
   "metadata": {
    "collapsed": false
   },
   "outputs": [
    {
     "name": "stdout",
     "output_type": "stream",
     "text": [
      "The training data has 7049 rows.\n",
      "The training data has 31 columns.\n"
     ]
    },
    {
     "data": {
      "text/html": [
       "<div>\n",
       "<table border=\"1\" class=\"dataframe\">\n",
       "  <thead>\n",
       "    <tr style=\"text-align: right;\">\n",
       "      <th></th>\n",
       "      <th>0</th>\n",
       "    </tr>\n",
       "  </thead>\n",
       "  <tbody>\n",
       "    <tr>\n",
       "      <th>left_eye_center_x</th>\n",
       "      <td>66.0336</td>\n",
       "    </tr>\n",
       "    <tr>\n",
       "      <th>left_eye_center_y</th>\n",
       "      <td>39.0023</td>\n",
       "    </tr>\n",
       "    <tr>\n",
       "      <th>right_eye_center_x</th>\n",
       "      <td>30.227</td>\n",
       "    </tr>\n",
       "    <tr>\n",
       "      <th>right_eye_center_y</th>\n",
       "      <td>36.4217</td>\n",
       "    </tr>\n",
       "    <tr>\n",
       "      <th>left_eye_inner_corner_x</th>\n",
       "      <td>59.5821</td>\n",
       "    </tr>\n",
       "    <tr>\n",
       "      <th>left_eye_inner_corner_y</th>\n",
       "      <td>39.6474</td>\n",
       "    </tr>\n",
       "    <tr>\n",
       "      <th>left_eye_outer_corner_x</th>\n",
       "      <td>73.1303</td>\n",
       "    </tr>\n",
       "    <tr>\n",
       "      <th>left_eye_outer_corner_y</th>\n",
       "      <td>39.97</td>\n",
       "    </tr>\n",
       "    <tr>\n",
       "      <th>right_eye_inner_corner_x</th>\n",
       "      <td>36.3566</td>\n",
       "    </tr>\n",
       "    <tr>\n",
       "      <th>right_eye_inner_corner_y</th>\n",
       "      <td>37.3894</td>\n",
       "    </tr>\n",
       "    <tr>\n",
       "      <th>right_eye_outer_corner_x</th>\n",
       "      <td>23.4529</td>\n",
       "    </tr>\n",
       "    <tr>\n",
       "      <th>right_eye_outer_corner_y</th>\n",
       "      <td>37.3894</td>\n",
       "    </tr>\n",
       "    <tr>\n",
       "      <th>left_eyebrow_inner_end_x</th>\n",
       "      <td>56.9533</td>\n",
       "    </tr>\n",
       "    <tr>\n",
       "      <th>left_eyebrow_inner_end_y</th>\n",
       "      <td>29.0336</td>\n",
       "    </tr>\n",
       "    <tr>\n",
       "      <th>left_eyebrow_outer_end_x</th>\n",
       "      <td>80.2271</td>\n",
       "    </tr>\n",
       "    <tr>\n",
       "      <th>left_eyebrow_outer_end_y</th>\n",
       "      <td>32.2281</td>\n",
       "    </tr>\n",
       "    <tr>\n",
       "      <th>right_eyebrow_inner_end_x</th>\n",
       "      <td>40.2276</td>\n",
       "    </tr>\n",
       "    <tr>\n",
       "      <th>right_eyebrow_inner_end_y</th>\n",
       "      <td>29.0023</td>\n",
       "    </tr>\n",
       "    <tr>\n",
       "      <th>right_eyebrow_outer_end_x</th>\n",
       "      <td>16.3564</td>\n",
       "    </tr>\n",
       "    <tr>\n",
       "      <th>right_eyebrow_outer_end_y</th>\n",
       "      <td>29.6475</td>\n",
       "    </tr>\n",
       "    <tr>\n",
       "      <th>nose_tip_x</th>\n",
       "      <td>44.4206</td>\n",
       "    </tr>\n",
       "    <tr>\n",
       "      <th>nose_tip_y</th>\n",
       "      <td>57.0668</td>\n",
       "    </tr>\n",
       "    <tr>\n",
       "      <th>mouth_left_corner_x</th>\n",
       "      <td>61.1953</td>\n",
       "    </tr>\n",
       "    <tr>\n",
       "      <th>mouth_left_corner_y</th>\n",
       "      <td>79.9702</td>\n",
       "    </tr>\n",
       "    <tr>\n",
       "      <th>mouth_right_corner_x</th>\n",
       "      <td>28.6145</td>\n",
       "    </tr>\n",
       "    <tr>\n",
       "      <th>mouth_right_corner_y</th>\n",
       "      <td>77.389</td>\n",
       "    </tr>\n",
       "    <tr>\n",
       "      <th>mouth_center_top_lip_x</th>\n",
       "      <td>43.3126</td>\n",
       "    </tr>\n",
       "    <tr>\n",
       "      <th>mouth_center_top_lip_y</th>\n",
       "      <td>72.9355</td>\n",
       "    </tr>\n",
       "    <tr>\n",
       "      <th>mouth_center_bottom_lip_x</th>\n",
       "      <td>43.1307</td>\n",
       "    </tr>\n",
       "    <tr>\n",
       "      <th>mouth_center_bottom_lip_y</th>\n",
       "      <td>84.4858</td>\n",
       "    </tr>\n",
       "    <tr>\n",
       "      <th>Image</th>\n",
       "      <td>238 236 237 238 240 240 239 241 241 243 240 23...</td>\n",
       "    </tr>\n",
       "  </tbody>\n",
       "</table>\n",
       "</div>"
      ],
      "text/plain": [
       "                                                                           0\n",
       "left_eye_center_x                                                    66.0336\n",
       "left_eye_center_y                                                    39.0023\n",
       "right_eye_center_x                                                    30.227\n",
       "right_eye_center_y                                                   36.4217\n",
       "left_eye_inner_corner_x                                              59.5821\n",
       "left_eye_inner_corner_y                                              39.6474\n",
       "left_eye_outer_corner_x                                              73.1303\n",
       "left_eye_outer_corner_y                                                39.97\n",
       "right_eye_inner_corner_x                                             36.3566\n",
       "right_eye_inner_corner_y                                             37.3894\n",
       "right_eye_outer_corner_x                                             23.4529\n",
       "right_eye_outer_corner_y                                             37.3894\n",
       "left_eyebrow_inner_end_x                                             56.9533\n",
       "left_eyebrow_inner_end_y                                             29.0336\n",
       "left_eyebrow_outer_end_x                                             80.2271\n",
       "left_eyebrow_outer_end_y                                             32.2281\n",
       "right_eyebrow_inner_end_x                                            40.2276\n",
       "right_eyebrow_inner_end_y                                            29.0023\n",
       "right_eyebrow_outer_end_x                                            16.3564\n",
       "right_eyebrow_outer_end_y                                            29.6475\n",
       "nose_tip_x                                                           44.4206\n",
       "nose_tip_y                                                           57.0668\n",
       "mouth_left_corner_x                                                  61.1953\n",
       "mouth_left_corner_y                                                  79.9702\n",
       "mouth_right_corner_x                                                 28.6145\n",
       "mouth_right_corner_y                                                  77.389\n",
       "mouth_center_top_lip_x                                               43.3126\n",
       "mouth_center_top_lip_y                                               72.9355\n",
       "mouth_center_bottom_lip_x                                            43.1307\n",
       "mouth_center_bottom_lip_y                                            84.4858\n",
       "Image                      238 236 237 238 240 240 239 241 241 243 240 23..."
      ]
     },
     "execution_count": 6,
     "metadata": {},
     "output_type": "execute_result"
    }
   ],
   "source": [
    "print \"The training data has {0} rows.\".format(train_data.shape[0])\n",
    "print \"The training data has {0} columns.\".format(train_data.shape[1])\n",
    "train_data.head(1).T"
   ]
  },
  {
   "cell_type": "markdown",
   "metadata": {},
   "source": [
    "- As shown above, the data has 7049 rows and 31 columns. \n",
    "- We can see the structure of the data by the head() method (because the data has 31 columns,so display the data by transposition), and find that the first 30 columns are the 15 keypoints data's x and y positions. \n",
    "- The last attributes \"Image\" which is the face image, consists of a list of pixels (ordered by row), as integers in (0,255)."
   ]
  },
  {
   "cell_type": "code",
   "execution_count": 7,
   "metadata": {
    "collapsed": false
   },
   "outputs": [
    {
     "name": "stdout",
     "output_type": "stream",
     "text": [
      "(2140, 96, 96, 1)\n",
      "(2140, 30)\n"
     ]
    }
   ],
   "source": [
    "train_data[\"Image\"] = train_data[\"Image\"].apply(lambda x: np.fromstring(x, sep=' ')/ 255.0)\n",
    "train_data = train_data.dropna()\n",
    "    \n",
    "train_dataset = np.vstack(train_data[\"Image\"])\n",
    "train_dataset = train_dataset.reshape(-1, IMAGE_SIZE, IMAGE_SIZE, CHANNELS)\n",
    "print train_dataset.shape\n",
    "    \n",
    "train_cols = train_data.columns[:-1]\n",
    "train_labels = train_data[train_cols].values / IMAGE_SIZE\n",
    "print train_labels.shape"
   ]
  },
  {
   "cell_type": "markdown",
   "metadata": {},
   "source": [
    "According to the above analysis,because the image data is a list of pixels and seperated by a blank space, so we need to preprocess them.\n",
    "\n",
    "1. Make the Image data from string to array and normalize the values;\n",
    "2. Drop the na file, which cannot help to training the data;\n",
    "3. Gather all image data and reshape them;\n",
    "4. Gather all face keypoints data and normalize them;"
   ]
  },
  {
   "cell_type": "markdown",
   "metadata": {},
   "source": [
    "### Shuffle and Create Validation Dataset\n",
    "In order to training our data, so I will split some data from the training data for cross validation use.\n",
    "\n",
    "Also, before spliting the data, we need to shuffle the data."
   ]
  },
  {
   "cell_type": "code",
   "execution_count": 8,
   "metadata": {
    "collapsed": false
   },
   "outputs": [
    {
     "name": "stdout",
     "output_type": "stream",
     "text": [
      "validation_dataset shape:(107, 96, 96, 1)\n",
      "validation_labels shape:(107, 30)\n",
      "training dataset shape:(2033, 96, 96, 1)\n",
      "training labels shape:(2033, 30)\n"
     ]
    }
   ],
   "source": [
    "# define validation size\n",
    "VALIDATION_SIZE = int(0.05 * len(train_dataset))\n",
    "# shuffle\n",
    "train_dataset, train_labels = shuffle(train_dataset, train_labels, random_state = RANDOM_SEED)\n",
    "\n",
    "# create validation data\n",
    "validation_dataset = train_dataset[:VALIDATION_SIZE, ...]\n",
    "validation_labels = train_labels[:VALIDATION_SIZE, ...]\n",
    "\n",
    "print \"validation_dataset shape:{0}\".format(validation_dataset.shape) \n",
    "print \"validation_labels shape:{0}\".format(validation_labels.shape)\n",
    "\n",
    "training_dataset = train_dataset[VALIDATION_SIZE:, ...]\n",
    "training_labels = train_labels[VALIDATION_SIZE:, ...]\n",
    "\n",
    "print \"training dataset shape:{0}\".format(training_dataset.shape)\n",
    "print \"training labels shape:{0}\".format(training_labels.shape)\n"
   ]
  },
  {
   "cell_type": "markdown",
   "metadata": {},
   "source": [
    "### Test data"
   ]
  },
  {
   "cell_type": "code",
   "execution_count": 9,
   "metadata": {
    "collapsed": false
   },
   "outputs": [
    {
     "name": "stdout",
     "output_type": "stream",
     "text": [
      "The test data has 1783 rows.\n"
     ]
    },
    {
     "data": {
      "text/html": [
       "<div>\n",
       "<table border=\"1\" class=\"dataframe\">\n",
       "  <thead>\n",
       "    <tr style=\"text-align: right;\">\n",
       "      <th></th>\n",
       "      <th>ImageId</th>\n",
       "      <th>Image</th>\n",
       "    </tr>\n",
       "  </thead>\n",
       "  <tbody>\n",
       "    <tr>\n",
       "      <th>0</th>\n",
       "      <td>1</td>\n",
       "      <td>182 183 182 182 180 180 176 169 156 137 124 10...</td>\n",
       "    </tr>\n",
       "  </tbody>\n",
       "</table>\n",
       "</div>"
      ],
      "text/plain": [
       "   ImageId                                              Image\n",
       "0        1  182 183 182 182 180 180 176 169 156 137 124 10..."
      ]
     },
     "execution_count": 9,
     "metadata": {},
     "output_type": "execute_result"
    }
   ],
   "source": [
    "print \"The test data has {0} rows.\".format(test_data.shape[0])\n",
    "test_data.head(1)"
   ]
  },
  {
   "cell_type": "markdown",
   "metadata": {},
   "source": [
    "The test data is simple, it contains 2 coloums. **ImageId** and **Image** which needs to detect. We do pre-process like the training data."
   ]
  },
  {
   "cell_type": "code",
   "execution_count": 10,
   "metadata": {
    "collapsed": false
   },
   "outputs": [
    {
     "name": "stdout",
     "output_type": "stream",
     "text": [
      "(1783, 96, 96, 1)\n"
     ]
    }
   ],
   "source": [
    "test_data[\"Image\"] = test_data[\"Image\"].apply(lambda x: np.fromstring(x, sep=' ')/ 255.0)\n",
    "test_dataset = np.vstack(test_data[\"Image\"])\n",
    "\n",
    "test_dataset = test_dataset.reshape(-1, IMAGE_SIZE, IMAGE_SIZE, CHANNELS)\n",
    "print test_dataset.shape"
   ]
  },
  {
   "cell_type": "markdown",
   "metadata": {},
   "source": [
    "### Exploratory Visualization\n",
    "\n",
    "**Training data**\n",
    "\n",
    "I using the matplotlib to plot the image and the face keypoints, shown in the below, we can see the face with 15 keypoints in the face:"
   ]
  },
  {
   "cell_type": "code",
   "execution_count": 11,
   "metadata": {
    "collapsed": false
   },
   "outputs": [
    {
     "data": {
      "text/plain": [
       "<matplotlib.collections.PathCollection at 0x11bf74090>"
      ]
     },
     "execution_count": 11,
     "metadata": {},
     "output_type": "execute_result"
    },
    {
     "data": {
      "image/png": "[encoded data removed]",
      "text/plain": [
       "<matplotlib.figure.Figure at 0x11b7a15d0>"
      ]
     },
     "metadata": {},
     "output_type": "display_data"
    }
   ],
   "source": [
    "plt.imshow(train_dataset[0].reshape(IMAGE_SIZE, IMAGE_SIZE), cmap='gray')\n",
    "plt.scatter(train_labels[0][0::2] * IMAGE_SIZE, train_labels[0][1::2] * IMAGE_SIZE)"
   ]
  },
  {
   "cell_type": "markdown",
   "metadata": {},
   "source": [
    "**Test data**\n",
    "\n",
    "The following is the test data image, we need to use training data for training a deep learning model and to detect the face keypoint in the test dataset, and then submit to kaggle."
   ]
  },
  {
   "cell_type": "code",
   "execution_count": 12,
   "metadata": {
    "collapsed": false
   },
   "outputs": [
    {
     "data": {
      "text/plain": [
       "<matplotlib.image.AxesImage at 0x11bb5c890>"
      ]
     },
     "execution_count": 12,
     "metadata": {},
     "output_type": "execute_result"
    },
    {
     "data": {
      "image/png": "[encoded data removed]",
      "text/plain": [
       "<matplotlib.figure.Figure at 0x11c0e2b10>"
      ]
     },
     "metadata": {},
     "output_type": "display_data"
    }
   ],
   "source": [
    "plt.imshow(test_dataset[0].reshape(IMAGE_SIZE, IMAGE_SIZE), cmap='gray')"
   ]
  },
  {
   "cell_type": "markdown",
   "metadata": {},
   "source": [
    "## III. Algorithms and Techniques\n",
    "\n",
    "### CNN ( Convolutional Neural Networks )\n",
    "\n",
    "Convolutional Neural Networks is training like the human being's brains, and it can be very useful for image processing fields, so I will use this training model.\n",
    "\n",
    "\n",
    "### Tensorflow\n",
    "Tensorflow is the new distributed deep learning python library which is developed by Google and open source. I will use this new library to training the model.\n",
    "\n",
    "\n",
    "### Reference \n",
    "https://www.tensorflow.org/versions/r0.9/api_docs/python/nn.html#conv2d\n",
    "https://www.tensorflow.org/versions/r0.9/api_docs/python/constant_op.html#truncated_normal\n"
   ]
  },
  {
   "cell_type": "markdown",
   "metadata": {},
   "source": [
    "### Initial variables"
   ]
  },
  {
   "cell_type": "code",
   "execution_count": 13,
   "metadata": {
    "collapsed": false
   },
   "outputs": [
    {
     "name": "stdout",
     "output_type": "stream",
     "text": [
      "Tensor(\"Placeholder:0\", shape=(64, 96, 96, 1), dtype=float32)\n"
     ]
    }
   ],
   "source": [
    "tf_training_data = tf.placeholder(tf.float32,\n",
    "                                  shape = (BATCH_SIZE,IMAGE_SIZE,IMAGE_SIZE,CHANNELS))\n",
    "print tf_training_data\n",
    "\n",
    "tf_training_labels = tf.placeholder(tf.float32,\n",
    "                                   shape = (BATCH_SIZE,NUM_LABELS))\n",
    "\n",
    "tf_validation_data = tf.placeholder(tf.float32,\n",
    "                                   shape = (BATCH_SIZE,IMAGE_SIZE,IMAGE_SIZE, CHANNELS))"
   ]
  },
  {
   "cell_type": "code",
   "execution_count": 14,
   "metadata": {
    "collapsed": false
   },
   "outputs": [
    {
     "name": "stdout",
     "output_type": "stream",
     "text": [
      "<tensorflow.python.ops.variables.Variable object at 0x11c525bd0>\n",
      "<tensorflow.python.ops.variables.Variable object at 0x11c53d990>\n",
      "<tensorflow.python.ops.variables.Variable object at 0x11c529f90>\n"
     ]
    }
   ],
   "source": [
    "tf_conv1_weights = tf.Variable(\n",
    "        tf.truncated_normal([5, 5, CHANNELS, CONV1_DEPTH],\n",
    "                                           stddev = 0.1, \n",
    "                                           seed = RANDOM_SEED))\n",
    "    \n",
    "print tf_conv1_weights\n",
    "    \n",
    "tf_conv1_biases = tf.Variable(tf.zeros([CONV1_DEPTH]))\n",
    "\n",
    "tf_conv2_weights = tf.Variable(\n",
    "        tf.truncated_normal([5, 5, CONV1_DEPTH, CONV2_DEPTH],\n",
    "                                           stddev = 0.1,\n",
    "                                           seed = RANDOM_SEED))\n",
    "    \n",
    "tf_conv2_biases = tf.Variable(tf.constant(0.1, shape=[CONV2_DEPTH]))\n",
    "\n",
    "tf_fc1_weights = tf.Variable(tf.truncated_normal([IMAGE_SIZE // 4 * IMAGE_SIZE // 4 * BATCH_SIZE, 512],\n",
    "                                                    stddev = 0.1,\n",
    "                                                    seed = RANDOM_SEED))\n",
    "tf_fc1_biases = tf.Variable(tf.constant(0.1, shape=[512]))\n",
    "    \n",
    "tf_fc2_weights = tf.Variable(tf.truncated_normal([512, 512],\n",
    "                                                    stddev = 0.1,\n",
    "                                                    seed = RANDOM_SEED))\n",
    "print tf_fc2_weights\n",
    "    \n",
    "tf_fc2_biases = tf.Variable(tf.constant(0.1, shape=[512]))\n",
    "\n",
    "\n",
    "tf_fc3_weights = tf.Variable(tf.truncated_normal([512, NUM_LABELS],\n",
    "                                stddev = 0.1,\n",
    "                                seed = RANDOM_SEED))\n",
    "print tf_fc3_weights\n",
    "\n",
    "tf_fc3_biases = tf.Variable(tf.constant(0.1, shape= [NUM_LABELS]))"
   ]
  },
  {
   "cell_type": "markdown",
   "metadata": {},
   "source": [
    "### Define Model\n",
    "\n",
    "\n",
    "The cnn model which I designed as:\n",
    "\n",
    "- convolution layer 1 with 5x5 and 32 depth;\n",
    "- strides are [1, 1, 1, 1]\n",
    "- pool with strides [1, 2, 2, 1]\n",
    "\n",
    "- convolution layer 2 with 5x5 and 64 depth;\n",
    "- strides are [1, 1, 1, 1]\n",
    "- pool with strides [1, 2, 2, 1]\n",
    "\n",
    "- full connect layer 1 with [IMAGE_SIZE // 4 * IMAGE_SIZE // 4 * BATCH_SIZE, 512]\n",
    "- full connect layer 2 with [512, 512]\n",
    "- full connect layer 3 (output) with [512, NUM_LABELS]"
   ]
  },
  {
   "cell_type": "code",
   "execution_count": 15,
   "metadata": {
    "collapsed": true
   },
   "outputs": [],
   "source": [
    "def model(data, isTraining = False):\n",
    "    \n",
    "    # convolution layer 1\n",
    "    \n",
    "    \n",
    "    \n",
    "    tf_conv1 = tf.nn.conv2d(data, \n",
    "                            tf_conv1_weights, \n",
    "                            strides=[1, 1, 1, 1], \n",
    "                            padding=\"SAME\")\n",
    "    print tf_conv1\n",
    "    \n",
    "    tf_conv1_relu = tf.nn.relu(tf.nn.bias_add(tf_conv1, tf_conv1_biases))\n",
    "    \n",
    "    print tf_conv1_relu\n",
    "    \n",
    "    tf_pool_1 = tf.nn.max_pool(tf_conv1_relu,\n",
    "                                 ksize=[1,2,2,1],\n",
    "                                 strides=[1,2,2,1],\n",
    "                                 padding = \"SAME\")\n",
    "    \n",
    "    print tf_pool_1\n",
    "    \n",
    "\n",
    "    \n",
    "    # convolution layer 2\n",
    "    \n",
    "      \n",
    "    \n",
    "    tf_conv2 = tf.nn.conv2d(tf_pool_1,\n",
    "                           tf_conv2_weights,\n",
    "                           strides = [1, 1, 1, 1],\n",
    "                           padding = \"SAME\")\n",
    "    \n",
    "    tf_conv2_relu = tf.nn.relu(tf.nn.bias_add(tf_conv2, tf_conv2_biases))\n",
    "    \n",
    "    tf_pool_2 = tf.nn.max_pool(tf_conv2_relu,\n",
    "                              ksize = [1, 2, 2, 1],\n",
    "                              strides = [1, 2, 2, 1],\n",
    "                              padding = \"SAME\")\n",
    "    print tf_pool_2\n",
    "\n",
    "    # pool reshape\n",
    "    \n",
    "    tf_pool_shape = tf_pool_2.get_shape().as_list()\n",
    "    \n",
    "    tf_reshape = tf.reshape(tf_pool_2,\n",
    "                            [tf_pool_shape[0],\n",
    "                             tf_pool_shape[1] * tf_pool_shape[2] * tf_pool_shape[3]])\n",
    "    \n",
    "    \n",
    "    # full connected hidden layer 1\n",
    "    \n",
    "    \n",
    "    \n",
    "    tf_hidden_1 = tf.nn.relu(tf.matmul(tf_reshape, tf_fc1_weights) + tf_fc1_biases)\n",
    "    print tf_hidden_1\n",
    "    \n",
    "    if isTraining:\n",
    "        tf_hidden_1 = tf.nn.dropout(tf_hidden_1, 0.5, seed = RANDOM_SEED)\n",
    "    \n",
    "    # full connected hidden layer 2\n",
    "\n",
    "    \n",
    "    \n",
    "    tf_hidden_2 = tf.nn.relu(tf.matmul(tf_hidden_1, tf_fc2_weights) + tf_fc2_biases)\n",
    "    print tf_hidden_2\n",
    "    \n",
    "    if isTraining:\n",
    "        tf_hidden_2 = tf.nn.dropout(tf_hidden_2, 0.5, seed = RANDOM_SEED)\n",
    "    \n",
    "    # full connected hidden layer 3\n",
    "    \n",
    "    \n",
    "    \n",
    "    tf_out = tf.matmul(tf_hidden_2, tf_fc3_weights) + tf_fc3_biases\n",
    "    \n",
    "    print tf_out\n",
    "    \n",
    "    return tf_out\n",
    "    "
   ]
  },
  {
   "cell_type": "code",
   "execution_count": 16,
   "metadata": {
    "collapsed": false
   },
   "outputs": [
    {
     "name": "stdout",
     "output_type": "stream",
     "text": [
      "Tensor(\"Conv2D:0\", shape=(64, 96, 96, 32), dtype=float32)\n",
      "Tensor(\"Relu:0\", shape=(64, 96, 96, 32), dtype=float32)\n",
      "Tensor(\"MaxPool:0\", shape=(64, 48, 48, 32), dtype=float32)\n",
      "Tensor(\"MaxPool_1:0\", shape=(64, 24, 24, 64), dtype=float32)\n",
      "Tensor(\"Relu_2:0\", shape=(64, 512), dtype=float32)\n",
      "Tensor(\"Relu_3:0\", shape=(64, 512), dtype=float32)\n",
      "Tensor(\"add_2:0\", shape=(64, 30), dtype=float32)\n",
      "Tensor(\"Conv2D_2:0\", shape=(64, 96, 96, 32), dtype=float32)\n",
      "Tensor(\"Relu_4:0\", shape=(64, 96, 96, 32), dtype=float32)\n",
      "Tensor(\"MaxPool_2:0\", shape=(64, 48, 48, 32), dtype=float32)\n",
      "Tensor(\"MaxPool_3:0\", shape=(64, 24, 24, 64), dtype=float32)\n",
      "Tensor(\"Relu_6:0\", shape=(64, 512), dtype=float32)\n",
      "Tensor(\"Relu_7:0\", shape=(64, 512), dtype=float32)\n",
      "Tensor(\"add_5:0\", shape=(64, 30), dtype=float32)\n"
     ]
    }
   ],
   "source": [
    "tf_training_prediction = model(tf_training_data, isTraining=True)\n",
    "tf_validation_prediction = model(tf_validation_data)"
   ]
  },
  {
   "cell_type": "markdown",
   "metadata": {},
   "source": [
    "**Define loss function as the metric show**\n",
    "\n",
    "$$ \\textrm{RMSE} = \\sqrt{\\frac{1}{n} \\sum_{i=1}^{n} (y_i - \\hat{y}_i)^2} $$"
   ]
  },
  {
   "cell_type": "code",
   "execution_count": 17,
   "metadata": {
    "collapsed": false
   },
   "outputs": [],
   "source": [
    "def metric_loss(prediction,labels):\n",
    "    \n",
    "    return np.sqrt(np.mean(np.square(prediction - labels)))\n",
    "\n",
    "\n",
    "\n",
    "loss = tf.sqrt(tf.reduce_mean(tf.reduce_sum(tf.square(tf_training_prediction - tf_training_labels),1)))"
   ]
  },
  {
   "cell_type": "markdown",
   "metadata": {},
   "source": [
    "** Add Regularization **"
   ]
  },
  {
   "cell_type": "code",
   "execution_count": 18,
   "metadata": {
    "collapsed": true
   },
   "outputs": [],
   "source": [
    "regularizers = tf.nn.l2_loss(tf_fc1_weights) + tf.nn.l2_loss(tf_fc1_biases)+\\\n",
    "tf.nn.l2_loss(tf_fc2_weights) + tf.nn.l2_loss(tf_fc2_biases)+\\\n",
    "tf.nn.l2_loss(tf_fc3_weights) + tf.nn.l2_loss(tf_fc3_biases)\n",
    "\n",
    "loss += 10e-7 * regularizers"
   ]
  },
  {
   "cell_type": "markdown",
   "metadata": {},
   "source": [
    "**Predict**"
   ]
  },
  {
   "cell_type": "code",
   "execution_count": 19,
   "metadata": {
    "collapsed": true
   },
   "outputs": [],
   "source": [
    "def predict_in_batch(data, sess, tf_validation_prediction, tf_validation_data):\n",
    "    \n",
    "    length = data.shape[0]\n",
    "    predictions = np.ndarray( shape = [length, NUM_LABELS], dtype = np.float32)\n",
    "    \n",
    "    for begin in range(0, length, BATCH_SIZE):\n",
    "        end = begin + BATCH_SIZE\n",
    "        if end <= length:\n",
    "            predictions[begin:end,:] = sess.run(tf_validation_prediction,\n",
    "                                               feed_dict = {tf_validation_data: data[begin:end,:]})\n",
    "        else:\n",
    "            tmp_predictions = sess.run(tf_validation_prediction,\n",
    "                                            feed_dict = {tf_validation_data: data[-BATCH_SIZE:,:]})\n",
    "            predictions[begin:,:] = tmp_predictions[begin - length:,:]\n",
    "            \n",
    "    return predictions\n",
    "        \n",
    "    \n",
    "    "
   ]
  },
  {
   "cell_type": "code",
   "execution_count": 20,
   "metadata": {
    "collapsed": false
   },
   "outputs": [],
   "source": [
    "global_step = tf.Variable(0, trainable=False)\n",
    "learning_rate = tf.train.exponential_decay(0.001, \n",
    "                                           global_step * BATCH_SIZE, \n",
    "                                           len(train_dataset), \n",
    "                                           0.95, \n",
    "                                           staircase=True)\n",
    "train_step = tf.train.AdamOptimizer(learning_rate, 0.95).minimize(loss, global_step)"
   ]
  },
  {
   "cell_type": "markdown",
   "metadata": {},
   "source": [
    "** Begin training**"
   ]
  },
  {
   "cell_type": "code",
   "execution_count": 21,
   "metadata": {
    "collapsed": false
   },
   "outputs": [
    {
     "name": "stdout",
     "output_type": "stream",
     "text": [
      "*************Start Training***************\n",
      "Begin timestamp is 1469854006.62\n",
      "Current iteration 0 :train loss is 1.26424658298, valid loss is 0.0965038872897, learning rate is 0.0010000000475.\n",
      "Current iteration 1 :train loss is 1.07680094242, valid loss is 0.0607430319419, learning rate is 0.000950000016019.\n",
      "Current iteration 2 :train loss is 0.910365223885, valid loss is 0.0456153345393, learning rate is 0.000902500003576.\n",
      "Current iteration 3 :train loss is 0.791741967201, valid loss is 0.0324777210544, learning rate is 0.000857374980114.\n",
      "Current iteration 4 :train loss is 0.677127957344, valid loss is 0.0335387973502, learning rate is 0.000814506260213.\n",
      "Current iteration 5 :train loss is 0.585383892059, valid loss is 0.0321599618006, learning rate is 0.000773780921008.\n",
      "Current iteration 6 :train loss is 0.555191338062, valid loss is 0.0325112358235, learning rate is 0.000735091918614.\n",
      "Current iteration 7 :train loss is 0.510665297508, valid loss is 0.0318678508949, learning rate is 0.000698337273207.\n",
      "Current iteration 8 :train loss is 0.465416282415, valid loss is 0.0318980208036, learning rate is 0.000663420418277.\n",
      "Current iteration 9 :train loss is 0.458792537451, valid loss is 0.0323453417658, learning rate is 0.000630249327514.\n",
      "*************Training Finished***************\n",
      "End timestamp is 1469854854.66\n",
      "Total time is 848.039125204s\n"
     ]
    }
   ],
   "source": [
    "init = tf.initialize_all_variables()\n",
    "sess = tf.InteractiveSession()\n",
    "sess.run(init)\n",
    "\n",
    "loss_train_record = list()\n",
    "loss_valid_record = list()\n",
    "\n",
    "print \"*************Start Training***************\"\n",
    "start_time =time.time()\n",
    "print \"Begin timestamp is {0}\".format(start_time)\n",
    "\n",
    "\n",
    "# record best validation training model.\n",
    "best_valid = np.inf\n",
    "best_valid_iteration = 0\n",
    "\n",
    "current_iter = 0\n",
    "\n",
    "while current_iter < NUM_ITER :\n",
    "    \n",
    "    for step in xrange(len(training_dataset) / BATCH_SIZE):\n",
    "        \n",
    "        offset = step * BATCH_SIZE\n",
    "        \n",
    "        batch_dataset = training_dataset[offset:(offset + BATCH_SIZE), ...]\n",
    "        batch_labels = training_labels[offset:(offset + BATCH_SIZE)]\n",
    "        \n",
    "        feed_dict = {tf_training_data : batch_dataset,\n",
    "                    tf_training_labels : batch_labels}\n",
    "        _ , loss_train, current_learning_rate = sess.run([train_step, loss, learning_rate], feed_dict= feed_dict)\n",
    "        \n",
    "    validation_prediction = predict_in_batch(validation_dataset, sess, tf_validation_prediction, tf_validation_data)\n",
    "        \n",
    "    loss_valid = metric_loss(validation_prediction, validation_labels)\n",
    "        \n",
    "    print \"Current iteration {0} :train loss is {1}, valid loss is {2}, learning rate is {3}.\"\\\n",
    "    .format(current_iter, loss_train, loss_valid, current_learning_rate)\n",
    "        \n",
    "    loss_train_record.append(loss_train)\n",
    "    loss_valid_record.append(loss_valid)\n",
    "    \n",
    "    if loss_valid < best_valid:\n",
    "        best_valid = loss_valid\n",
    "        best_valid_iteration = current_iter\n",
    "    \n",
    "    current_iter += 1\n",
    "    \n",
    "        \n",
    "    \n",
    "\n",
    "print \"*************Training Finished***************\"\n",
    "end_time = time.time()\n",
    "print \"End timestamp is {0}\".format(end_time)\n",
    "print \"Total time is {0}s\".format(end_time - start_time)"
   ]
  },
  {
   "cell_type": "markdown",
   "metadata": {},
   "source": [
    "## IV. Results\n",
    "\n",
    "After 5 iterations' training, we can see, the valid loss is all most tend to stationary, and it related to 0.033. But the training loss is still going down.\n",
    "\n",
    "We can plot the learning curve as the below:"
   ]
  },
  {
   "cell_type": "markdown",
   "metadata": {
    "collapsed": false
   },
   "source": [
    "**Plot learning curve **"
   ]
  },
  {
   "cell_type": "code",
   "execution_count": 34,
   "metadata": {
    "collapsed": false
   },
   "outputs": [
    {
     "data": {
      "image/png": "[encoded data removed]",
      "text/plain": [
       "<matplotlib.figure.Figure at 0x12a384890>"
      ]
     },
     "metadata": {},
     "output_type": "display_data"
    }
   ],
   "source": [
    "plt.plot(loss_train_record , marker = 'o', label = \"Trainging curve\")\n",
    "plt.plot(loss_valid_record , marker = 'o', label = \"Validation curve\")\n",
    "plt.legend()\n",
    "plt.show()"
   ]
  },
  {
   "cell_type": "markdown",
   "metadata": {},
   "source": [
    "We can learning from the curve: \n",
    "- The blue color is the training curve, and from iteration 8, it change little;\n",
    "- The green color is the validation curve, and from iteration 4, it change little."
   ]
  },
  {
   "cell_type": "markdown",
   "metadata": {},
   "source": [
    "**Plot Samples**\n",
    "\n",
    "We use the validation dataset for plot samples to verify."
   ]
  },
  {
   "cell_type": "code",
   "execution_count": 40,
   "metadata": {
    "collapsed": false
   },
   "outputs": [
    {
     "data": {
      "image/png": "[encoded data removed]",
      "text/plain": [
       "<matplotlib.figure.Figure at 0x12a3a5c50>"
      ]
     },
     "metadata": {},
     "output_type": "display_data"
    }
   ],
   "source": [
    "def plot_sample(image, true_labels, predictions = None):\n",
    "    image =image.reshape(IMAGE_SIZE, IMAGE_SIZE)\n",
    "    plt.imshow(image, cmap='gray')\n",
    "    if true_labels is not None:\n",
    "        plt.scatter(true_labels[0::2] * IMAGE_SIZE, true_labels[1::2] * IMAGE_SIZE)\n",
    "        \n",
    "    if predictions is not None:\n",
    "        plt.scatter(predictions[0::2] * IMAGE_SIZE, predictions[1::2] * IMAGE_SIZE, c='r', marker='x')\n",
    "        \n",
    "        \n",
    "\n",
    "predictions = predict_in_batch(validation_dataset, sess, tf_validation_prediction, tf_validation_data)\n",
    "\n",
    "def plot(i):\n",
    "    plot_sample(validation_dataset[i], validation_labels[i], predictions[i])\n",
    "    \n",
    "plot(PLOT_NUM)"
   ]
  },
  {
   "cell_type": "markdown",
   "metadata": {},
   "source": [
    "From the shown example, we can see the model predictions face keypoint is near the truth position."
   ]
  },
  {
   "cell_type": "markdown",
   "metadata": {},
   "source": [
    "## V. Conclusion\n",
    "This capstone project is about the facial keypoints detection, the data from the kaggle competitions, and I use Tensorflow with Convolution Neutral Network to do training. \n",
    "\n",
    "First, I download the dataset from the kaggle, and unzip the dataset.\n",
    "\n",
    "Then, I reshape the datasets, shuffle the training dataset, and split them to training dataset, validation dataset.\n",
    "\n",
    "Next, I design the model for training, and record the training loss results.\n",
    "\n",
    "After 10 iterations' training, the loss of training dataset from 1.264 to 0.459, and the loss of validation dataset from 0.0965 to 0.0323. \n",
    "\n",
    "Finally, I plot the training and validation dataset's loss curve, and randomly choose one figure to plot, we can obsolutely see the predictions of facial keypoints near the right positions.\n"
   ]
  },
  {
   "cell_type": "markdown",
   "metadata": {},
   "source": [
    "### Improvement\n",
    "My solution is using the CNN with tensorflow, and the training iterations are only 10, due to the time of training time.\n",
    "\n",
    "The training labels have 96 * 96 input, and the output labels are 30, which are both too much compared with the projects of MNLD before, so I feel very challenging about the Capstone Projects.\n",
    "\n",
    "If we want to improve the training results, we need more computing resources, and the tensorflow gives us the possible, because it can using GPU accelerating, and also it can be deploy in many servers to become distributed, so we can do more training iterations to fit much better."
   ]
  },
  {
   "cell_type": "markdown",
   "metadata": {},
   "source": [
    "## VI. Acknowledgements\n",
    "\n",
    "Thanks for Udacity to provide Machine Learning Nano Degree, it feels so good, and don't like other online courses only have the video courses, it lets us to do projects and learn from practises.\n",
    "\n",
    "Thanks for the hard work of our reviewers, thank you for your detailed guidance and comments!\n"
   ]
  }
 ],
 "metadata": {
  "kernelspec": {
   "display_name": "Python 2",
   "language": "python",
   "name": "python2"
  },
  "language_info": {
   "codemirror_mode": {
    "name": "ipython",
    "version": 2
   },
   "file_extension": ".py",
   "mimetype": "text/x-python",
   "name": "python",
   "nbconvert_exporter": "python",
   "pygments_lexer": "ipython2",
   "version": "2.7.12"
  }
 },
 "nbformat": 4,
 "nbformat_minor": 0
}
